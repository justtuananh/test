{
  "cells": [
    {
      "cell_type": "markdown",
      "metadata": {
        "id": "view-in-github",
        "colab_type": "text"
      },
      "source": [
        "<a href=\"https://colab.research.google.com/github/justtuananh/test/blob/master/auto_punctual.ipynb\" target=\"_parent\"><img src=\"https://colab.research.google.com/assets/colab-badge.svg\" alt=\"Open In Colab\"/></a>"
      ]
    },
    {
      "cell_type": "code",
      "execution_count": 2,
      "metadata": {
        "colab": {
          "base_uri": "https://localhost:8080/"
        },
        "id": "j7ANPFjUR_qV",
        "outputId": "53516a70-354d-44b8-edc2-1cfa541b2089"
      },
      "outputs": [
        {
          "output_type": "stream",
          "name": "stdout",
          "text": [
            "Mounted at /content/gdrive\n"
          ]
        }
      ],
      "source": [
        "from google.colab import drive \n",
        "drive.mount(\"/content/gdrive\")"
      ]
    },
    {
      "cell_type": "code",
      "execution_count": 3,
      "metadata": {
        "colab": {
          "base_uri": "https://localhost:8080/"
        },
        "id": "DXeNgwKISHBt",
        "outputId": "83a6704b-4afe-4d6a-97c7-a003fa4d6e9d"
      },
      "outputs": [
        {
          "output_type": "stream",
          "name": "stdout",
          "text": [
            "/content/gdrive/MyDrive/AI siêu cấp nghiêm túc :))/vietpunc\n"
          ]
        }
      ],
      "source": [
        "cd \"/content/gdrive/MyDrive/AI siêu cấp nghiêm túc :))/vietpunc\""
      ]
    },
    {
      "cell_type": "code",
      "execution_count": 6,
      "metadata": {
        "colab": {
          "base_uri": "https://localhost:8080/"
        },
        "id": "cIjkft3Ic9Yc",
        "outputId": "be809ab3-e0b4-4509-c470-05c2f5fae3ff"
      },
      "outputs": [
        {
          "output_type": "stream",
          "name": "stdout",
          "text": [
            "Looking in indexes: https://pypi.org/simple, https://us-python.pkg.dev/colab-wheels/public/simple/\n",
            "Collecting transformers==4.16.2\n",
            "  Downloading transformers-4.16.2-py3-none-any.whl (3.5 MB)\n",
            "\u001b[K     |████████████████████████████████| 3.5 MB 5.2 MB/s \n",
            "\u001b[?25hCollecting sentencepiece\n",
            "  Using cached sentencepiece-0.1.97-cp37-cp37m-manylinux_2_17_x86_64.manylinux2014_x86_64.whl (1.3 MB)\n",
            "Collecting TorchCRF\n",
            "  Downloading TorchCRF-1.1.0-py3-none-any.whl (5.2 kB)\n",
            "Requirement already satisfied: pyyaml>=5.1 in /usr/local/lib/python3.7/dist-packages (from transformers==4.16.2->-r requirements.txt (line 1)) (6.0)\n",
            "Requirement already satisfied: requests in /usr/local/lib/python3.7/dist-packages (from transformers==4.16.2->-r requirements.txt (line 1)) (2.23.0)\n",
            "Collecting sacremoses\n",
            "  Downloading sacremoses-0.0.53.tar.gz (880 kB)\n",
            "\u001b[K     |████████████████████████████████| 880 kB 59.4 MB/s \n",
            "\u001b[?25hRequirement already satisfied: importlib-metadata in /usr/local/lib/python3.7/dist-packages (from transformers==4.16.2->-r requirements.txt (line 1)) (4.12.0)\n",
            "Collecting tokenizers!=0.11.3,>=0.10.1\n",
            "  Using cached tokenizers-0.12.1-cp37-cp37m-manylinux_2_12_x86_64.manylinux2010_x86_64.whl (6.6 MB)\n",
            "Requirement already satisfied: regex!=2019.12.17 in /usr/local/lib/python3.7/dist-packages (from transformers==4.16.2->-r requirements.txt (line 1)) (2022.6.2)\n",
            "Requirement already satisfied: filelock in /usr/local/lib/python3.7/dist-packages (from transformers==4.16.2->-r requirements.txt (line 1)) (3.8.0)\n",
            "Requirement already satisfied: packaging>=20.0 in /usr/local/lib/python3.7/dist-packages (from transformers==4.16.2->-r requirements.txt (line 1)) (21.3)\n",
            "Requirement already satisfied: numpy>=1.17 in /usr/local/lib/python3.7/dist-packages (from transformers==4.16.2->-r requirements.txt (line 1)) (1.21.6)\n",
            "Collecting huggingface-hub<1.0,>=0.1.0\n",
            "  Downloading huggingface_hub-0.9.1-py3-none-any.whl (120 kB)\n",
            "\u001b[K     |████████████████████████████████| 120 kB 74.0 MB/s \n",
            "\u001b[?25hRequirement already satisfied: tqdm>=4.27 in /usr/local/lib/python3.7/dist-packages (from transformers==4.16.2->-r requirements.txt (line 1)) (4.64.0)\n",
            "Requirement already satisfied: typing-extensions>=3.7.4.3 in /usr/local/lib/python3.7/dist-packages (from huggingface-hub<1.0,>=0.1.0->transformers==4.16.2->-r requirements.txt (line 1)) (4.1.1)\n",
            "Requirement already satisfied: pyparsing!=3.0.5,>=2.0.2 in /usr/local/lib/python3.7/dist-packages (from packaging>=20.0->transformers==4.16.2->-r requirements.txt (line 1)) (3.0.9)\n",
            "Requirement already satisfied: torch>=1.0.0 in /usr/local/lib/python3.7/dist-packages (from TorchCRF->-r requirements.txt (line 3)) (1.12.1+cu113)\n",
            "Requirement already satisfied: zipp>=0.5 in /usr/local/lib/python3.7/dist-packages (from importlib-metadata->transformers==4.16.2->-r requirements.txt (line 1)) (3.8.1)\n",
            "Requirement already satisfied: chardet<4,>=3.0.2 in /usr/local/lib/python3.7/dist-packages (from requests->transformers==4.16.2->-r requirements.txt (line 1)) (3.0.4)\n",
            "Requirement already satisfied: idna<3,>=2.5 in /usr/local/lib/python3.7/dist-packages (from requests->transformers==4.16.2->-r requirements.txt (line 1)) (2.10)\n",
            "Requirement already satisfied: certifi>=2017.4.17 in /usr/local/lib/python3.7/dist-packages (from requests->transformers==4.16.2->-r requirements.txt (line 1)) (2022.6.15)\n",
            "Requirement already satisfied: urllib3!=1.25.0,!=1.25.1,<1.26,>=1.21.1 in /usr/local/lib/python3.7/dist-packages (from requests->transformers==4.16.2->-r requirements.txt (line 1)) (1.24.3)\n",
            "Requirement already satisfied: six in /usr/local/lib/python3.7/dist-packages (from sacremoses->transformers==4.16.2->-r requirements.txt (line 1)) (1.15.0)\n",
            "Requirement already satisfied: click in /usr/local/lib/python3.7/dist-packages (from sacremoses->transformers==4.16.2->-r requirements.txt (line 1)) (7.1.2)\n",
            "Requirement already satisfied: joblib in /usr/local/lib/python3.7/dist-packages (from sacremoses->transformers==4.16.2->-r requirements.txt (line 1)) (1.1.0)\n",
            "Building wheels for collected packages: sacremoses\n",
            "  Building wheel for sacremoses (setup.py) ... \u001b[?25l\u001b[?25hdone\n",
            "  Created wheel for sacremoses: filename=sacremoses-0.0.53-py3-none-any.whl size=895260 sha256=2b98237d4870dd7481d507f71bf33dcd2156ddbbc0bae151415ebc6abe80bce2\n",
            "  Stored in directory: /root/.cache/pip/wheels/87/39/dd/a83eeef36d0bf98e7a4d1933a4ad2d660295a40613079bafc9\n",
            "Successfully built sacremoses\n",
            "Installing collected packages: tokenizers, sacremoses, huggingface-hub, transformers, TorchCRF, sentencepiece\n",
            "Successfully installed TorchCRF-1.1.0 huggingface-hub-0.9.1 sacremoses-0.0.53 sentencepiece-0.1.97 tokenizers-0.12.1 transformers-4.16.2\n"
          ]
        }
      ],
      "source": [
        "!pip install -r requirements.txt"
      ]
    },
    {
      "cell_type": "code",
      "execution_count": null,
      "metadata": {
        "colab": {
          "base_uri": "https://localhost:8080/"
        },
        "id": "wXoqmFMBdCGy",
        "outputId": "503e17a3-8a55-4dbf-c2bc-c2733a02e877"
      },
      "outputs": [
        {
          "name": "stdout",
          "output_type": "stream",
          "text": [
            "usage: run_train_punc.py [-h] --data_dir DATA_DIR --model_name_or_path\n",
            "                         MODEL_NAME_OR_PATH --model_type MODEL_TYPE\n",
            "                         --model_arch MODEL_ARCH --task_name TASK_NAME\n",
            "                         --output_dir OUTPUT_DIR [--cache_dir CACHE_DIR]\n",
            "                         [--max_seq_length MAX_SEQ_LENGTH] [--do_train]\n",
            "                         [--do_eval] [--eval_on EVAL_ON] [--do_lower_case]\n",
            "                         [--train_batch_size TRAIN_BATCH_SIZE]\n",
            "                         [--eval_batch_size EVAL_BATCH_SIZE]\n",
            "                         [--eval_every_epoch] [--learning_rate LEARNING_RATE]\n",
            "                         [--num_train_epochs NUM_TRAIN_EPOCHS]\n",
            "                         [--warmup_proportion WARMUP_PROPORTION]\n",
            "                         [--weight_decay WEIGHT_DECAY]\n",
            "                         [--adam_epsilon ADAM_EPSILON]\n",
            "                         [--max_grad_norm MAX_GRAD_NORM] [--no_cuda]\n",
            "                         [--local_rank LOCAL_RANK] [--seed SEED]\n",
            "                         [--gradient_accumulation_steps GRADIENT_ACCUMULATION_STEPS]\n",
            "                         [--fp16] [--fp16_opt_level FP16_OPT_LEVEL]\n",
            "                         [--loss_scale LOSS_SCALE] [--noise_prob NOISE_PROB]\n",
            "run_train_punc.py: error: the following arguments are required: --data_dir, --model_name_or_path, --model_type, --model_arch, --task_name, --output_dir\n"
          ]
        }
      ],
      "source": [
        "!python3 run_train_punc.py "
      ]
    },
    {
      "cell_type": "code",
      "execution_count": null,
      "metadata": {
        "colab": {
          "background_save": true,
          "base_uri": "https://localhost:8080/"
        },
        "id": "avxI5_VUggFn",
        "outputId": "7b523693-44b9-4b75-b0e1-ac2376a3de9e"
      },
      "outputs": [
        {
          "name": "stdout",
          "output_type": "stream",
          "text": [
            "09/05/2022 17:17:21 - INFO - __main__ -   device: cuda n_gpu: 1, distributed training: False, 16-bits training: False\n",
            "Some weights of the model checkpoint at bert-base-multilingual-cased were not used when initializing PuncBERTLstmCrfModel: ['cls.seq_relationship.bias', 'cls.predictions.bias', 'cls.seq_relationship.weight', 'cls.predictions.transform.dense.bias', 'cls.predictions.decoder.weight', 'cls.predictions.transform.dense.weight', 'cls.predictions.transform.LayerNorm.weight', 'cls.predictions.transform.LayerNorm.bias']\n",
            "- This IS expected if you are initializing PuncBERTLstmCrfModel from the checkpoint of a model trained on another task or with another architecture (e.g. initializing a BertForSequenceClassification model from a BertForPreTraining model).\n",
            "- This IS NOT expected if you are initializing PuncBERTLstmCrfModel from the checkpoint of a model that you expect to be exactly identical (initializing a BertForSequenceClassification model from a BertForSequenceClassification model).\n",
            "Some weights of PuncBERTLstmCrfModel were not initialized from the model checkpoint at bert-base-multilingual-cased and are newly initialized: ['lstm.bias_hh_l1_reverse', 'lstm.bias_ih_l0_reverse', 'classifier.bias', 'lstm.weight_hh_l0_reverse', 'lstm.weight_hh_l0', 'crf.start_trans', 'classifier.weight', 'crf.end_trans', 'lstm.weight_ih_l0_reverse', 'lstm.weight_hh_l1', 'lstm.bias_ih_l1_reverse', 'lstm.weight_ih_l1_reverse', 'lstm.weight_ih_l0', 'lstm.bias_hh_l0_reverse', 'lstm.bias_ih_l1', 'lstm.bias_ih_l0', 'lstm.weight_ih_l1', 'crf.trans_matrix', 'lstm.weight_hh_l1_reverse', 'lstm.bias_hh_l1', 'lstm.bias_hh_l0']\n",
            "You should probably TRAIN this model on a down-stream task to be able to use it for predictions and inference.\n",
            "/usr/local/lib/python3.7/dist-packages/transformers/optimization.py:309: FutureWarning: This implementation of AdamW is deprecated and will be removed in a future version. Use thePyTorch implementation torch.optim.AdamW instead, or set `no_deprecation_warning=True` to disable this warning\n",
            "  FutureWarning,\n",
            "09/05/2022 17:18:46 - INFO - punc_dataset -   *** Example ***\n",
            "09/05/2022 17:18:46 - INFO - punc_dataset -   guid: train-0\n",
            "09/05/2022 17:18:46 - INFO - punc_dataset -   tokens: t ##t nạn khai thác cá ##t l ##ậu ở sông đồng nai đoạn qua p long ph ##ước q 9 t ##p h ##cm ngày càng lộ ##ng hành xem thường pháp luật một ngày các gh ##e bán cả tr ##ăm mét khối cá ##t chưa kể lớp b ##ùn phía trên mặt phải b ##ơ ##m bỏ đi thì đất nào còn m ##ấy anh thấy đó trước đây đất của người dân nhưng b ##ây giờ thành sông hết rồi ông q chỉ tay về chiếc gh ##e đang hút cá ##t đ ##ậu cách bờ hơn 1000 nói vì vậy trước mối lợi lớn này người ta đang lao vào khai thác với suy nghĩ cá ##t là của trời cho ai nhanh tay thì lấy nhưng câu chuyện đ ##âu đơn giản như thế\n",
            "09/05/2022 17:18:46 - INFO - punc_dataset -   input_ids: 101 188 10123 72125 37949 90619 23664 10123 180 62496 1682 23546 15049 76206 31709 14517 184 11695 99142 76238 185 130 188 10410 176 27528 12137 57255 43993 10376 13910 35143 16591 19013 36011 10417 12137 10792 25327 10112 26679 16125 32221 45438 39853 64270 23664 10123 26033 33521 38664 170 90101 15564 12598 20047 15723 170 45085 10147 27115 16895 18004 20175 27258 14674 181 48215 19087 19787 12393 16325 20502 20175 10447 11027 12486 15662 170 43616 29656 11629 23546 33493 36827 12660 185 14294 30562 12420 24264 25327 10112 21080 98838 23664 10123 299 62496 15605 50903 14789 12186 22072 17819 31811 16325 60475 38081 15731 10789 11027 11057 21080 58039 11603 37949 90619 11182 64374 98583 23664 10123 10331 10447 68121 11257 11346 41652 30562 18004 29937 15662 33046 54461 299 28345 22400 72477 12552 14421 102 0 0 0 0 0 0 0 0 0 0 0 0 0 0 0 0 0 0 0 0 0 0 0 0 0 0 0 0 0 0 0 0 0 0 0 0 0 0 0 0 0 0 0 0 0 0 0 0\n",
            "09/05/2022 17:18:46 - INFO - punc_dataset -   input_mask: 1 1 1 1 1 1 1 1 1 1 1 1 1 1 1 1 1 1 1 1 1 1 1 1 1 1 1 1 1 1 1 1 1 1 1 1 1 1 1 1 1 1 1 1 1 1 1 1 1 1 1 1 1 1 1 1 1 1 1 1 1 1 1 1 1 1 1 1 1 1 1 1 1 1 1 1 1 1 1 1 1 1 1 1 1 1 1 1 1 1 1 1 1 1 1 1 1 1 1 1 1 1 1 1 1 1 1 1 1 1 1 1 1 1 1 1 1 1 1 1 1 1 1 1 1 1 1 1 1 1 1 1 1 1 1 1 1 1 1 1 1 1 0 0 0 0 0 0 0 0 0 0 0 0 0 0 0 0 0 0 0 0 0 0 0 0 0 0 0 0 0 0 0 0 0 0 0 0 0 0 0 0 0 0 0 0 0 0 0 0\n",
            "09/05/2022 17:18:46 - INFO - punc_dataset -   segment_ids: 0 0 0 0 0 0 0 0 0 0 0 0 0 0 0 0 0 0 0 0 0 0 0 0 0 0 0 0 0 0 0 0 0 0 0 0 0 0 0 0 0 0 0 0 0 0 0 0 0 0 0 0 0 0 0 0 0 0 0 0 0 0 0 0 0 0 0 0 0 0 0 0 0 0 0 0 0 0 0 0 0 0 0 0 0 0 0 0 0 0 0 0 0 0 0 0 0 0 0 0 0 0 0 0 0 0 0 0 0 0 0 0 0 0 0 0 0 0 0 0 0 0 0 0 0 0 0 0 0 0 0 0 0 0 0 0 0 0 0 0 0 0 0 0 0 0 0 0 0 0 0 0 0 0 0 0 0 0 0 0 0 0 0 0 0 0 0 0 0 0 0 0 0 0 0 0 0 0 0 0 0 0 0 0 0 0 0 0 0 0\n",
            "09/05/2022 17:18:46 - INFO - punc_dataset -   *** Example ***\n",
            "09/05/2022 17:18:46 - INFO - punc_dataset -   guid: train-0\n",
            "09/05/2022 17:18:46 - INFO - punc_dataset -   tokens: t ##t nan khai thác cá ##t l ##ậu ở song đồng nai đoạn qua p long ph ##ước q 9 t ##p h ##cm ngay càng lộ ##ng hành xem thường pháp luat mot ngày các gh ##e bán cả tr ##ăm mét khối cá ##t chưa kể lớp b ##ùn phi ##a trên mặt ph ##ai b ##ơ ##m bo đi thì đất nào còn m ##ấy anh thấy đó trước đây đất của người dân nhưng b ##ây giờ thành sông het rồi ông q chỉ tay về chiếc gh ##e đang hút cá ##t đ ##ậu cách bờ hơn 1000 nói vì vậy trước moi loi lo ##n này người ta dan ##g lao vào khai thác với suy nghĩ cá ##t là của trời cho ai nhanh tay thì lấy nhưng câu chuyện đ ##âu đơn giản như thế\n",
            "09/05/2022 17:18:46 - INFO - punc_dataset -   input_ids: 101 188 10123 10799 37949 90619 23664 10123 180 62496 1682 12011 15049 76206 31709 14517 184 11695 99142 76238 185 130 188 10410 176 27528 44850 57255 43993 10376 13910 35143 16591 19013 76888 12082 12137 10792 25327 10112 26679 16125 32221 45438 39853 64270 23664 10123 26033 33521 38664 170 90101 36500 10113 12598 20047 99142 11542 170 45085 10147 20506 16895 18004 20175 27258 14674 181 48215 19087 19787 12393 16325 20502 20175 10447 11027 12486 15662 170 43616 29656 11629 23546 10187 36827 12660 185 14294 30562 12420 24264 25327 10112 21080 98838 23664 10123 299 62496 15605 50903 14789 12186 22072 17819 31811 16325 20888 20472 10406 10115 10789 11027 11057 10215 10240 58039 11603 37949 90619 11182 64374 98583 23664 10123 10331 10447 68121 11257 11346 41652 30562 18004 29937 15662 33046 54461 299 28345 22400 72477 12552 14421 102 0 0 0 0 0 0 0 0 0 0 0 0 0 0 0 0 0 0 0 0 0 0 0 0 0 0 0 0 0 0 0 0 0 0 0 0 0 0 0 0 0 0 0 0\n",
            "09/05/2022 17:18:46 - INFO - punc_dataset -   input_mask: 1 1 1 1 1 1 1 1 1 1 1 1 1 1 1 1 1 1 1 1 1 1 1 1 1 1 1 1 1 1 1 1 1 1 1 1 1 1 1 1 1 1 1 1 1 1 1 1 1 1 1 1 1 1 1 1 1 1 1 1 1 1 1 1 1 1 1 1 1 1 1 1 1 1 1 1 1 1 1 1 1 1 1 1 1 1 1 1 1 1 1 1 1 1 1 1 1 1 1 1 1 1 1 1 1 1 1 1 1 1 1 1 1 1 1 1 1 1 1 1 1 1 1 1 1 1 1 1 1 1 1 1 1 1 1 1 1 1 1 1 1 1 1 1 1 1 0 0 0 0 0 0 0 0 0 0 0 0 0 0 0 0 0 0 0 0 0 0 0 0 0 0 0 0 0 0 0 0 0 0 0 0 0 0 0 0 0 0 0 0\n",
            "09/05/2022 17:18:46 - INFO - punc_dataset -   segment_ids: 0 0 0 0 0 0 0 0 0 0 0 0 0 0 0 0 0 0 0 0 0 0 0 0 0 0 0 0 0 0 0 0 0 0 0 0 0 0 0 0 0 0 0 0 0 0 0 0 0 0 0 0 0 0 0 0 0 0 0 0 0 0 0 0 0 0 0 0 0 0 0 0 0 0 0 0 0 0 0 0 0 0 0 0 0 0 0 0 0 0 0 0 0 0 0 0 0 0 0 0 0 0 0 0 0 0 0 0 0 0 0 0 0 0 0 0 0 0 0 0 0 0 0 0 0 0 0 0 0 0 0 0 0 0 0 0 0 0 0 0 0 0 0 0 0 0 0 0 0 0 0 0 0 0 0 0 0 0 0 0 0 0 0 0 0 0 0 0 0 0 0 0 0 0 0 0 0 0 0 0 0 0 0 0 0 0 0 0 0 0\n",
            "09/05/2022 17:18:46 - INFO - punc_dataset -   *** Example ***\n",
            "09/05/2022 17:18:46 - INFO - punc_dataset -   guid: train-1\n",
            "09/05/2022 17:18:46 - INFO - punc_dataset -   tokens: cá ##t là tài nguyên do nhà nước quản lý khai thác phải có quy hoạch không thể hút cá ##t vô tội v ##ạ vì như thế đất đai nhà cửa nằm sát m ##é sông trước sau gì cũng biến thành sông ông q một người có th ##âm niên hơn 10000 ##00 năm trong nghề hút cá ##t trên sông đồng nai nay đã giải nghệ cho biết khai thác cá ##t l ##ậu muốn có ăn phải đ ##ợi lúc nước lớn chạy gh ##e sát m ##é bờ để hút hiện nay một người làm công cho gh ##e hút cá ##t l ##ậu kiếm được mỗi ngày khoảng 1000 triệu đồng mới chỉ người làm công mà đã như thế hu ##ống hồ chủ gh ##e\n",
            "09/05/2022 17:18:46 - INFO - punc_dataset -   input_ids: 101 23664 10123 10331 24083 22862 10149 13265 12932 30264 17522 37949 90619 15723 10601 34671 48721 11755 12334 98838 23664 10123 28443 58590 190 48880 17819 12552 14421 20175 51410 13265 43872 21152 25133 181 10333 23546 16325 11731 49309 13284 23719 11629 23546 12660 185 10417 11027 10601 77586 34595 36441 14789 53695 21069 10558 10504 96199 98838 23664 10123 12598 23546 15049 76206 21537 11213 16658 28267 11257 21820 37949 90619 23664 10123 180 62496 38858 10601 23061 15723 299 53725 28298 12932 15731 38135 25327 10112 25133 181 10333 50903 12460 98838 13526 21537 10417 11027 12984 12319 11257 25327 10112 98838 23664 10123 180 62496 61889 10476 31504 12137 18706 12186 31450 15049 18652 14294 11027 12984 12319 15542 11213 12552 14421 26506 29028 50104 16549 25327 10112 102 0 0 0 0 0 0 0 0 0 0 0 0 0 0 0 0 0 0 0 0 0 0 0 0 0 0 0 0 0 0 0 0 0 0 0 0 0 0 0 0 0 0 0 0 0 0 0 0 0 0 0 0 0 0 0 0\n",
            "09/05/2022 17:18:46 - INFO - punc_dataset -   input_mask: 1 1 1 1 1 1 1 1 1 1 1 1 1 1 1 1 1 1 1 1 1 1 1 1 1 1 1 1 1 1 1 1 1 1 1 1 1 1 1 1 1 1 1 1 1 1 1 1 1 1 1 1 1 1 1 1 1 1 1 1 1 1 1 1 1 1 1 1 1 1 1 1 1 1 1 1 1 1 1 1 1 1 1 1 1 1 1 1 1 1 1 1 1 1 1 1 1 1 1 1 1 1 1 1 1 1 1 1 1 1 1 1 1 1 1 1 1 1 1 1 1 1 1 1 1 1 1 1 1 1 1 1 1 1 0 0 0 0 0 0 0 0 0 0 0 0 0 0 0 0 0 0 0 0 0 0 0 0 0 0 0 0 0 0 0 0 0 0 0 0 0 0 0 0 0 0 0 0 0 0 0 0 0 0 0 0 0 0 0 0\n",
            "09/05/2022 17:18:46 - INFO - punc_dataset -   segment_ids: 0 0 0 0 0 0 0 0 0 0 0 0 0 0 0 0 0 0 0 0 0 0 0 0 0 0 0 0 0 0 0 0 0 0 0 0 0 0 0 0 0 0 0 0 0 0 0 0 0 0 0 0 0 0 0 0 0 0 0 0 0 0 0 0 0 0 0 0 0 0 0 0 0 0 0 0 0 0 0 0 0 0 0 0 0 0 0 0 0 0 0 0 0 0 0 0 0 0 0 0 0 0 0 0 0 0 0 0 0 0 0 0 0 0 0 0 0 0 0 0 0 0 0 0 0 0 0 0 0 0 0 0 0 0 0 0 0 0 0 0 0 0 0 0 0 0 0 0 0 0 0 0 0 0 0 0 0 0 0 0 0 0 0 0 0 0 0 0 0 0 0 0 0 0 0 0 0 0 0 0 0 0 0 0 0 0 0 0 0 0\n",
            "09/05/2022 17:18:46 - INFO - punc_dataset -   *** Example ***\n",
            "09/05/2022 17:18:46 - INFO - punc_dataset -   guid: train-1\n",
            "09/05/2022 17:18:46 - INFO - punc_dataset -   tokens: cá ##t là tài nguyên do nhà nuo ##c quản lý khai thác ph ##ai có quy hoa ##ch không the hút cá ##t vo tội v ##ạ vì như thế đất đai nhà cửa nằm sát m ##é sông trước sau gì cũng biến thành sông on ##g q một người có tham niên hơn 10000 ##00 nam trong nghề hút cá ##t trên sông dong nai nay đã giải nghệ cho bi ##et khai thác cá ##t l ##ậu muốn có ăn phải đ ##ợi lúc nước lớn chạy gh ##e sát m ##é bờ để hút hiện nay một người la ##m công cho gh ##e hút cá ##t l ##ậu kiếm được mỗi ngày khoảng 1000 triệu đồng mới chỉ ng ##uo ##i làm công mà đã như the hu ##ống hồ chủ gh ##e\n",
            "09/05/2022 17:18:46 - INFO - punc_dataset -   input_ids: 101 23664 10123 10331 24083 22862 10149 13265 13756 10350 30264 17522 37949 90619 99142 11542 10601 34671 13006 10269 11755 10105 98838 23664 10123 12556 58590 190 48880 17819 12552 14421 20175 51410 13265 43872 21152 25133 181 10333 23546 16325 11731 49309 13284 23719 11629 23546 10135 10240 185 10417 11027 10601 20089 36441 14789 53695 21069 14441 10504 96199 98838 23664 10123 12598 23546 52200 76206 21537 11213 16658 28267 11257 11342 10308 37949 90619 23664 10123 180 62496 38858 10601 23061 15723 299 53725 28298 12932 15731 38135 25327 10112 25133 181 10333 50903 12460 98838 13526 21537 10417 11027 10109 10147 12319 11257 25327 10112 98838 23664 10123 180 62496 61889 10476 31504 12137 18706 12186 31450 15049 18652 14294 10743 21187 10116 12984 12319 15542 11213 12552 10105 26506 29028 50104 16549 25327 10112 102 0 0 0 0 0 0 0 0 0 0 0 0 0 0 0 0 0 0 0 0 0 0 0 0 0 0 0 0 0 0 0 0 0 0 0 0 0 0 0 0 0 0 0 0 0 0 0 0 0\n",
            "09/05/2022 17:18:46 - INFO - punc_dataset -   input_mask: 1 1 1 1 1 1 1 1 1 1 1 1 1 1 1 1 1 1 1 1 1 1 1 1 1 1 1 1 1 1 1 1 1 1 1 1 1 1 1 1 1 1 1 1 1 1 1 1 1 1 1 1 1 1 1 1 1 1 1 1 1 1 1 1 1 1 1 1 1 1 1 1 1 1 1 1 1 1 1 1 1 1 1 1 1 1 1 1 1 1 1 1 1 1 1 1 1 1 1 1 1 1 1 1 1 1 1 1 1 1 1 1 1 1 1 1 1 1 1 1 1 1 1 1 1 1 1 1 1 1 1 1 1 1 1 1 1 1 1 1 1 0 0 0 0 0 0 0 0 0 0 0 0 0 0 0 0 0 0 0 0 0 0 0 0 0 0 0 0 0 0 0 0 0 0 0 0 0 0 0 0 0 0 0 0 0 0 0 0 0\n",
            "09/05/2022 17:18:46 - INFO - punc_dataset -   segment_ids: 0 0 0 0 0 0 0 0 0 0 0 0 0 0 0 0 0 0 0 0 0 0 0 0 0 0 0 0 0 0 0 0 0 0 0 0 0 0 0 0 0 0 0 0 0 0 0 0 0 0 0 0 0 0 0 0 0 0 0 0 0 0 0 0 0 0 0 0 0 0 0 0 0 0 0 0 0 0 0 0 0 0 0 0 0 0 0 0 0 0 0 0 0 0 0 0 0 0 0 0 0 0 0 0 0 0 0 0 0 0 0 0 0 0 0 0 0 0 0 0 0 0 0 0 0 0 0 0 0 0 0 0 0 0 0 0 0 0 0 0 0 0 0 0 0 0 0 0 0 0 0 0 0 0 0 0 0 0 0 0 0 0 0 0 0 0 0 0 0 0 0 0 0 0 0 0 0 0 0 0 0 0 0 0 0 0 0 0 0 0\n",
            "09/05/2022 17:18:46 - INFO - punc_dataset -   *** Example ***\n",
            "09/05/2022 17:18:46 - INFO - punc_dataset -   guid: train-2\n",
            "09/05/2022 17:18:46 - INFO - punc_dataset -   tokens: thủ phạm của vụ làm bố ##c hơi hơn 1000 đất này được chỉ mặt đó là lực lượng khai thác cá ##t l ##ậu đang hoàn ##h hành ở đoạn sông đồng nai đi qua p long ph ##ước câu chuyện không chỉ mỗi mình vợ chồng bà thu g ##ánh chịu mà rất nhiều người dân sống tại khu phố trường khá ##nh ( p long ph ##ước q 9 t ##p h ##cm ) bị rơi vào tình trạng k ##h ##ốn k ##h ##ổ này tổng diện tích đất bị bố ##c hơi ở đây lên đến trên 42 ##ha bà nguy ##ễn trung thu tay cầm s ##ổ đỏ tay cầm bản đồ vừa chỉ vừa nói như khó ##c vợ chồng tôi mua mi ##ến ##g đất hơn ng ##àn mét vuông ở phường long khá ##nh quận 1000 t ##p\n",
            "09/05/2022 17:18:46 - INFO - punc_dataset -   input_ids: 101 18755 50816 10447 17790 12984 19925 10350 81379 14789 12186 20175 10789 10476 14294 20047 12393 10331 17220 15876 37949 90619 23664 10123 180 62496 21080 27765 10237 13910 1682 31709 23546 15049 76206 16895 14517 184 11695 99142 76238 33046 54461 11755 14294 31504 17830 64264 88652 27083 23886 175 55064 47945 15542 18946 13710 11027 12486 17135 12086 16028 16851 16188 57205 16317 113 184 11695 99142 76238 185 130 188 10410 176 27528 114 12505 88435 11603 23403 55315 179 10237 51221 179 10237 51417 10789 23258 17494 16499 20175 12505 19925 10350 81379 1682 20502 16732 12002 12598 11276 10921 27083 75578 39345 16396 23886 30562 74677 187 51417 62634 30562 74677 15194 37691 60644 14294 60644 22072 12552 54155 10350 64264 88652 40813 56944 12132 34627 10240 20175 14789 10743 22039 39853 82068 1682 83737 11695 57205 16317 22783 12186 188 10410 102 0 0 0 0 0 0 0 0 0 0 0 0 0 0 0 0 0 0 0 0 0 0 0 0 0 0 0 0 0 0 0 0 0 0 0 0 0 0 0 0 0\n",
            "09/05/2022 17:18:46 - INFO - punc_dataset -   input_mask: 1 1 1 1 1 1 1 1 1 1 1 1 1 1 1 1 1 1 1 1 1 1 1 1 1 1 1 1 1 1 1 1 1 1 1 1 1 1 1 1 1 1 1 1 1 1 1 1 1 1 1 1 1 1 1 1 1 1 1 1 1 1 1 1 1 1 1 1 1 1 1 1 1 1 1 1 1 1 1 1 1 1 1 1 1 1 1 1 1 1 1 1 1 1 1 1 1 1 1 1 1 1 1 1 1 1 1 1 1 1 1 1 1 1 1 1 1 1 1 1 1 1 1 1 1 1 1 1 1 1 1 1 1 1 1 1 1 1 1 1 1 1 1 1 1 1 1 1 1 0 0 0 0 0 0 0 0 0 0 0 0 0 0 0 0 0 0 0 0 0 0 0 0 0 0 0 0 0 0 0 0 0 0 0 0 0 0 0 0 0\n",
            "09/05/2022 17:18:46 - INFO - punc_dataset -   segment_ids: 0 0 0 0 0 0 0 0 0 0 0 0 0 0 0 0 0 0 0 0 0 0 0 0 0 0 0 0 0 0 0 0 0 0 0 0 0 0 0 0 0 0 0 0 0 0 0 0 0 0 0 0 0 0 0 0 0 0 0 0 0 0 0 0 0 0 0 0 0 0 0 0 0 0 0 0 0 0 0 0 0 0 0 0 0 0 0 0 0 0 0 0 0 0 0 0 0 0 0 0 0 0 0 0 0 0 0 0 0 0 0 0 0 0 0 0 0 0 0 0 0 0 0 0 0 0 0 0 0 0 0 0 0 0 0 0 0 0 0 0 0 0 0 0 0 0 0 0 0 0 0 0 0 0 0 0 0 0 0 0 0 0 0 0 0 0 0 0 0 0 0 0 0 0 0 0 0 0 0 0 0 0 0 0 0 0 0 0 0 0\n",
            "09/05/2022 17:18:46 - INFO - punc_dataset -   *** Example ***\n",
            "09/05/2022 17:18:46 - INFO - punc_dataset -   guid: train-2\n",
            "09/05/2022 17:18:46 - INFO - punc_dataset -   tokens: thu phạm của vụ làm bố ##c hơi hơn 1000 đất này được chỉ mặt đó là lực lu ##ong khai thác cá ##t lau đang hoàn ##h hành ở đoạn sông đồng nai đi qua p long ph ##uo ##c câu chuyện không chỉ moi minh vo chồng bà thu g ##ánh chịu mà rất nhiều người dân song tại khu ph ##o trường khá ##nh ( p long ph ##ước q 9 t ##p h ##cm ) bị rơi va ##o tinh trạng k ##h ##ốn k ##h ##ổ này tổng diện tích dat bị bố ##c hơi ở đây lên đến trên 42 ##ha bà nguy ##en trung thu tay cầm s ##ổ đỏ tay cầm ban đồ vừa chỉ vừa nói như khó ##c vợ cho ##ng tôi mua mi ##ến ##g đất hơn ng ##àn mét vuông ở phường long khá ##nh quận 1000 t ##p\n",
            "09/05/2022 17:18:46 - INFO - punc_dataset -   input_ids: 101 23886 50816 10447 17790 12984 19925 10350 81379 14789 12186 20175 10789 10476 14294 20047 12393 10331 17220 14657 13891 37949 90619 23664 10123 27207 21080 27765 10237 13910 1682 31709 23546 15049 76206 16895 14517 184 11695 99142 21187 10350 33046 54461 11755 14294 20888 30407 12556 88652 27083 23886 175 55064 47945 15542 18946 13710 11027 12486 12011 12086 16028 99142 10133 16188 57205 16317 113 184 11695 99142 76238 185 130 188 10410 176 27528 114 12505 88435 10321 10133 24009 55315 179 10237 51221 179 10237 51417 10789 23258 17494 16499 10527 12505 19925 10350 81379 1682 20502 16732 12002 12598 11276 10921 27083 75578 10136 16396 23886 30562 74677 187 51417 62634 30562 74677 11915 37691 60644 14294 60644 22072 12552 54155 10350 64264 11257 10376 40813 56944 12132 34627 10240 20175 14789 10743 22039 39853 82068 1682 83737 11695 57205 16317 22783 12186 188 10410 102 0 0 0 0 0 0 0 0 0 0 0 0 0 0 0 0 0 0 0 0 0 0 0 0 0 0 0 0 0 0 0 0 0 0 0 0 0\n",
            "09/05/2022 17:18:46 - INFO - punc_dataset -   input_mask: 1 1 1 1 1 1 1 1 1 1 1 1 1 1 1 1 1 1 1 1 1 1 1 1 1 1 1 1 1 1 1 1 1 1 1 1 1 1 1 1 1 1 1 1 1 1 1 1 1 1 1 1 1 1 1 1 1 1 1 1 1 1 1 1 1 1 1 1 1 1 1 1 1 1 1 1 1 1 1 1 1 1 1 1 1 1 1 1 1 1 1 1 1 1 1 1 1 1 1 1 1 1 1 1 1 1 1 1 1 1 1 1 1 1 1 1 1 1 1 1 1 1 1 1 1 1 1 1 1 1 1 1 1 1 1 1 1 1 1 1 1 1 1 1 1 1 1 1 1 1 1 1 1 0 0 0 0 0 0 0 0 0 0 0 0 0 0 0 0 0 0 0 0 0 0 0 0 0 0 0 0 0 0 0 0 0 0 0 0 0\n",
            "09/05/2022 17:18:46 - INFO - punc_dataset -   segment_ids: 0 0 0 0 0 0 0 0 0 0 0 0 0 0 0 0 0 0 0 0 0 0 0 0 0 0 0 0 0 0 0 0 0 0 0 0 0 0 0 0 0 0 0 0 0 0 0 0 0 0 0 0 0 0 0 0 0 0 0 0 0 0 0 0 0 0 0 0 0 0 0 0 0 0 0 0 0 0 0 0 0 0 0 0 0 0 0 0 0 0 0 0 0 0 0 0 0 0 0 0 0 0 0 0 0 0 0 0 0 0 0 0 0 0 0 0 0 0 0 0 0 0 0 0 0 0 0 0 0 0 0 0 0 0 0 0 0 0 0 0 0 0 0 0 0 0 0 0 0 0 0 0 0 0 0 0 0 0 0 0 0 0 0 0 0 0 0 0 0 0 0 0 0 0 0 0 0 0 0 0 0 0 0 0 0 0 0 0 0 0\n",
            "09/05/2022 17:18:46 - INFO - punc_dataset -   *** Example ***\n",
            "09/05/2022 17:18:46 - INFO - punc_dataset -   guid: train-3\n",
            "09/05/2022 17:18:46 - INFO - punc_dataset -   tokens: h ##cm tính c ##ất nhà làm v ##ườn dưỡng già nhưng giờ toàn m ##ên ##h môn ##g nước t ##ờ giấy đỏ chứng nhận quyền sử dụng đất của nhiều người dân giờ đây không còn giá trị khi đất của họ bị dân khai thác cá ##t l ##ậu làm cho bố ##c hơi đây là địa bàn ph ##ức tạp giáp ran ##h với nhiều xã huyện của t ##p h ##cm và đồng nai các đối tượng khai thác cá ##t lại có người theo d ##õi nắm bắt tình hình tuần tra của lực lượng khi phát hiện thì cho gh ##e bỏ chạy trước khi lực lượng đến nếu không chạy k ##ị ##p thì rút l ##ỗ l ##ù một l ##ỗ khoa ##n sẵn trên gh ##e rồi cho gh ##e ch ##ìm nên rất khó xử lý\n",
            "09/05/2022 17:18:46 - INFO - punc_dataset -   input_ids: 101 176 27528 17739 171 27147 13265 12984 190 63993 99070 16130 15662 29656 20005 181 20270 10237 52698 10240 12932 188 39930 106721 62634 34445 16638 17992 14808 15237 20175 10447 13710 11027 12486 29656 20502 11755 14674 24287 18327 12072 20175 10447 10876 12505 12486 37949 90619 23664 10123 180 62496 12984 11257 19925 10350 81379 20502 10331 18495 33899 99142 39909 62861 29781 17044 10237 11182 13710 13388 15222 10447 188 10410 176 27528 10432 15049 76206 10792 17600 30378 37949 90619 23664 10123 13148 10601 11027 13951 172 76024 94782 18019 23403 15054 37716 11264 10447 17220 15876 12072 13803 13526 18004 11257 25327 10112 27115 38135 16325 12072 17220 15876 12002 41800 11755 38135 179 30324 10410 18004 53735 180 33078 180 13580 10417 180 33078 11685 10115 99397 12598 25327 10112 36827 11257 25327 10112 18643 105545 19114 18946 54155 59324 17522 102 0 0 0 0 0 0 0 0 0 0 0 0 0 0 0 0 0 0 0 0 0 0 0 0 0 0 0 0 0 0 0 0 0 0 0 0 0 0 0 0 0\n",
            "09/05/2022 17:18:46 - INFO - punc_dataset -   input_mask: 1 1 1 1 1 1 1 1 1 1 1 1 1 1 1 1 1 1 1 1 1 1 1 1 1 1 1 1 1 1 1 1 1 1 1 1 1 1 1 1 1 1 1 1 1 1 1 1 1 1 1 1 1 1 1 1 1 1 1 1 1 1 1 1 1 1 1 1 1 1 1 1 1 1 1 1 1 1 1 1 1 1 1 1 1 1 1 1 1 1 1 1 1 1 1 1 1 1 1 1 1 1 1 1 1 1 1 1 1 1 1 1 1 1 1 1 1 1 1 1 1 1 1 1 1 1 1 1 1 1 1 1 1 1 1 1 1 1 1 1 1 1 1 1 1 1 1 1 1 0 0 0 0 0 0 0 0 0 0 0 0 0 0 0 0 0 0 0 0 0 0 0 0 0 0 0 0 0 0 0 0 0 0 0 0 0 0 0 0 0\n",
            "09/05/2022 17:18:46 - INFO - punc_dataset -   segment_ids: 0 0 0 0 0 0 0 0 0 0 0 0 0 0 0 0 0 0 0 0 0 0 0 0 0 0 0 0 0 0 0 0 0 0 0 0 0 0 0 0 0 0 0 0 0 0 0 0 0 0 0 0 0 0 0 0 0 0 0 0 0 0 0 0 0 0 0 0 0 0 0 0 0 0 0 0 0 0 0 0 0 0 0 0 0 0 0 0 0 0 0 0 0 0 0 0 0 0 0 0 0 0 0 0 0 0 0 0 0 0 0 0 0 0 0 0 0 0 0 0 0 0 0 0 0 0 0 0 0 0 0 0 0 0 0 0 0 0 0 0 0 0 0 0 0 0 0 0 0 0 0 0 0 0 0 0 0 0 0 0 0 0 0 0 0 0 0 0 0 0 0 0 0 0 0 0 0 0 0 0 0 0 0 0 0 0 0 0 0 0\n",
            "09/05/2022 17:18:46 - INFO - punc_dataset -   *** Example ***\n",
            "09/05/2022 17:18:46 - INFO - punc_dataset -   guid: train-3\n",
            "09/05/2022 17:18:46 - INFO - punc_dataset -   tokens: h ##cm tính c ##ất nhà làm v ##ườn dưỡng già nhưng giờ toa ##n m ##ên ##h môn ##g nước t ##ờ giấy đỏ chung nhận quyền sử dụng đất của nhiều người dân giờ day không còn giá trị khi đất của ho bị dân khai thác cá ##t l ##ậu làm cho bố ##c hơi đây la địa bàn ph ##ức tạp giáp ran ##h với nhiều xa huyện của t ##p h ##cm và đồng nai các đối tượng khai tha ##c cá ##t lại co người theo d ##õi nắm bat tình hình tuần tra của lực lượng khi phát hiện thì cho gh ##e bỏ chạy trước khi lực lượng đến nếu không chạy k ##ị ##p thi rút l ##ỗ l ##ù một lo khoa ##n sẵn trên gh ##e rồi cho gh ##e ch ##ìm nên rất khó xử lý\n",
            "09/05/2022 17:18:46 - INFO - punc_dataset -   input_ids: 101 176 27528 17739 171 27147 13265 12984 190 63993 99070 16130 15662 29656 64782 10115 181 20270 10237 52698 10240 12932 188 39930 106721 62634 30404 16638 17992 14808 15237 20175 10447 13710 11027 12486 29656 11940 11755 14674 24287 18327 12072 20175 10447 13173 12505 12486 37949 90619 23664 10123 180 62496 12984 11257 19925 10350 81379 20502 10109 18495 33899 99142 39909 62861 29781 17044 10237 11182 13710 21772 15222 10447 188 10410 176 27528 10432 15049 76206 10792 17600 30378 37949 108270 10350 23664 10123 13148 11170 11027 13951 172 76024 94782 11519 23403 15054 37716 11264 10447 17220 15876 12072 13803 13526 18004 11257 25327 10112 27115 38135 16325 12072 17220 15876 12002 41800 11755 38135 179 30324 10410 24106 53735 180 33078 180 13580 10417 10406 11685 10115 99397 12598 25327 10112 36827 11257 25327 10112 18643 105545 19114 18946 54155 59324 17522 102 0 0 0 0 0 0 0 0 0 0 0 0 0 0 0 0 0 0 0 0 0 0 0 0 0 0 0 0 0 0 0 0 0 0 0 0 0 0 0 0\n",
            "09/05/2022 17:18:46 - INFO - punc_dataset -   input_mask: 1 1 1 1 1 1 1 1 1 1 1 1 1 1 1 1 1 1 1 1 1 1 1 1 1 1 1 1 1 1 1 1 1 1 1 1 1 1 1 1 1 1 1 1 1 1 1 1 1 1 1 1 1 1 1 1 1 1 1 1 1 1 1 1 1 1 1 1 1 1 1 1 1 1 1 1 1 1 1 1 1 1 1 1 1 1 1 1 1 1 1 1 1 1 1 1 1 1 1 1 1 1 1 1 1 1 1 1 1 1 1 1 1 1 1 1 1 1 1 1 1 1 1 1 1 1 1 1 1 1 1 1 1 1 1 1 1 1 1 1 1 1 1 1 1 1 1 1 1 1 0 0 0 0 0 0 0 0 0 0 0 0 0 0 0 0 0 0 0 0 0 0 0 0 0 0 0 0 0 0 0 0 0 0 0 0 0 0 0 0\n",
            "09/05/2022 17:18:46 - INFO - punc_dataset -   segment_ids: 0 0 0 0 0 0 0 0 0 0 0 0 0 0 0 0 0 0 0 0 0 0 0 0 0 0 0 0 0 0 0 0 0 0 0 0 0 0 0 0 0 0 0 0 0 0 0 0 0 0 0 0 0 0 0 0 0 0 0 0 0 0 0 0 0 0 0 0 0 0 0 0 0 0 0 0 0 0 0 0 0 0 0 0 0 0 0 0 0 0 0 0 0 0 0 0 0 0 0 0 0 0 0 0 0 0 0 0 0 0 0 0 0 0 0 0 0 0 0 0 0 0 0 0 0 0 0 0 0 0 0 0 0 0 0 0 0 0 0 0 0 0 0 0 0 0 0 0 0 0 0 0 0 0 0 0 0 0 0 0 0 0 0 0 0 0 0 0 0 0 0 0 0 0 0 0 0 0 0 0 0 0 0 0 0 0 0 0 0 0\n",
            "09/05/2022 17:18:46 - INFO - punc_dataset -   *** Example ***\n",
            "09/05/2022 17:18:46 - INFO - punc_dataset -   guid: train-4\n",
            "09/05/2022 17:18:46 - INFO - punc_dataset -   tokens: ngoài ra phương tiện tuần tra xử lý của địa phương chỉ có một can ##ô và một gh ##e cũ thường xuyên h ##ư h ##ỏng nên để tuần tra truy bắt cá ##t t ##ặc rất khó khăn chính quyền địa phương đang đề xuất lên trên để có phương án tốt nhất d ##ẹp bỏ tình trạng này tương tự thượng tá nguy ##ễn hồng nin ##h phó trưởng phòng cảnh sát giao thông đường thủy t ##p bà nguy ##ễn thị ng ##ọc thanh ( ảnh ) chủ tịch u ##bn ##d p long ph ##ước ( q 9 ) xác nhận chuyện hơn 1000 đất của người dân bị tr ##ôi xuống sông do nạn hút cá ##t l ##ậu là có thật\n",
            "09/05/2022 17:18:46 - INFO - punc_dataset -   input_ids: 101 25331 11859 20377 87737 37716 11264 59324 17522 10447 18495 20377 14294 10601 10417 10944 16218 10432 10417 25327 10112 52994 16591 69277 176 28776 176 56876 19114 12460 37716 11264 86139 18019 23664 10123 188 97650 18946 54155 99054 12707 17992 18495 20377 21080 20192 14930 16732 12598 12460 10601 20377 15832 33598 13346 172 91817 27115 23403 55315 10789 24959 15550 84091 30185 75578 39345 106278 13587 10237 84090 22380 23278 33266 25133 25216 18030 17773 43592 188 10410 27083 75578 39345 14373 10743 51025 38762 113 23317 114 16549 41946 189 71136 10162 184 11695 99142 76238 113 185 130 114 30058 16638 54461 14789 12186 20175 10447 11027 12486 12505 32221 26596 39246 23546 10149 72125 98838 23664 10123 180 62496 10331 10601 61334 102 0 0 0 0 0 0 0 0 0 0 0 0 0 0 0 0 0 0 0 0 0 0 0 0 0 0 0 0 0 0 0 0 0 0 0 0 0 0 0 0 0 0 0 0 0 0 0 0 0 0 0 0 0 0 0 0 0 0 0 0\n",
            "09/05/2022 17:18:46 - INFO - punc_dataset -   input_mask: 1 1 1 1 1 1 1 1 1 1 1 1 1 1 1 1 1 1 1 1 1 1 1 1 1 1 1 1 1 1 1 1 1 1 1 1 1 1 1 1 1 1 1 1 1 1 1 1 1 1 1 1 1 1 1 1 1 1 1 1 1 1 1 1 1 1 1 1 1 1 1 1 1 1 1 1 1 1 1 1 1 1 1 1 1 1 1 1 1 1 1 1 1 1 1 1 1 1 1 1 1 1 1 1 1 1 1 1 1 1 1 1 1 1 1 1 1 1 1 1 1 1 1 1 1 1 1 1 1 1 0 0 0 0 0 0 0 0 0 0 0 0 0 0 0 0 0 0 0 0 0 0 0 0 0 0 0 0 0 0 0 0 0 0 0 0 0 0 0 0 0 0 0 0 0 0 0 0 0 0 0 0 0 0 0 0 0 0 0 0\n",
            "09/05/2022 17:18:46 - INFO - punc_dataset -   segment_ids: 0 0 0 0 0 0 0 0 0 0 0 0 0 0 0 0 0 0 0 0 0 0 0 0 0 0 0 0 0 0 0 0 0 0 0 0 0 0 0 0 0 0 0 0 0 0 0 0 0 0 0 0 0 0 0 0 0 0 0 0 0 0 0 0 0 0 0 0 0 0 0 0 0 0 0 0 0 0 0 0 0 0 0 0 0 0 0 0 0 0 0 0 0 0 0 0 0 0 0 0 0 0 0 0 0 0 0 0 0 0 0 0 0 0 0 0 0 0 0 0 0 0 0 0 0 0 0 0 0 0 0 0 0 0 0 0 0 0 0 0 0 0 0 0 0 0 0 0 0 0 0 0 0 0 0 0 0 0 0 0 0 0 0 0 0 0 0 0 0 0 0 0 0 0 0 0 0 0 0 0 0 0 0 0 0 0 0 0 0 0\n",
            "09/05/2022 17:18:46 - INFO - punc_dataset -   *** Example ***\n",
            "09/05/2022 17:18:46 - INFO - punc_dataset -   guid: train-4\n",
            "09/05/2022 17:18:46 - INFO - punc_dataset -   tokens: ngoài ra ph ##uo ##ng tiện tuần tra xử lý của địa phương chỉ có một can ##o và một gh ##e cũ thường x ##uye ##n h ##ư hon ##g nên để tua ##n tra truy bắt cat t ##ặc rất khó khăn chính quyền địa phương dan ##g de xuất lên trên để có phương án tốt nhất de ##p bỏ tinh trạng này tương tự thượng tá nguy ##ễn hồng nin ##h phó trưởng phong can ##h sát giao thông đường thủy t ##p bà nguy ##ễn thi ng ##ọc thanh ( anh ) chủ tịch u ##bn ##d p long ph ##ước ( q 9 ) xác nhận chuyện hơn 1000 đất của người dân bị tr ##ôi xuống sông do nạn hút cá ##t l ##ậu là có thật\n",
            "09/05/2022 17:18:46 - INFO - punc_dataset -   input_ids: 101 25331 11859 99142 21187 10376 87737 37716 11264 59324 17522 10447 18495 20377 14294 10601 10417 10944 10133 10432 10417 25327 10112 52994 16591 192 67467 10115 176 28776 14923 10240 19114 12460 29095 10115 11264 86139 18019 41163 188 97650 18946 54155 99054 12707 17992 18495 20377 10215 10240 10104 14930 16732 12598 12460 10601 20377 15832 33598 13346 10104 10410 27115 24009 55315 10789 24959 15550 84091 30185 75578 39345 106278 13587 10237 84090 22380 24025 10944 10237 25133 25216 18030 17773 43592 188 10410 27083 75578 39345 24106 10743 51025 38762 113 19087 114 16549 41946 189 71136 10162 184 11695 99142 76238 113 185 130 114 30058 16638 54461 14789 12186 20175 10447 11027 12486 12505 32221 26596 39246 23546 10149 72125 98838 23664 10123 180 62496 10331 10601 61334 102 0 0 0 0 0 0 0 0 0 0 0 0 0 0 0 0 0 0 0 0 0 0 0 0 0 0 0 0 0 0 0 0 0 0 0 0 0 0 0 0 0 0 0 0 0 0 0 0 0 0 0 0 0 0\n",
            "09/05/2022 17:18:46 - INFO - punc_dataset -   input_mask: 1 1 1 1 1 1 1 1 1 1 1 1 1 1 1 1 1 1 1 1 1 1 1 1 1 1 1 1 1 1 1 1 1 1 1 1 1 1 1 1 1 1 1 1 1 1 1 1 1 1 1 1 1 1 1 1 1 1 1 1 1 1 1 1 1 1 1 1 1 1 1 1 1 1 1 1 1 1 1 1 1 1 1 1 1 1 1 1 1 1 1 1 1 1 1 1 1 1 1 1 1 1 1 1 1 1 1 1 1 1 1 1 1 1 1 1 1 1 1 1 1 1 1 1 1 1 1 1 1 1 1 1 1 1 1 1 0 0 0 0 0 0 0 0 0 0 0 0 0 0 0 0 0 0 0 0 0 0 0 0 0 0 0 0 0 0 0 0 0 0 0 0 0 0 0 0 0 0 0 0 0 0 0 0 0 0 0 0 0 0\n",
            "09/05/2022 17:18:46 - INFO - punc_dataset -   segment_ids: 0 0 0 0 0 0 0 0 0 0 0 0 0 0 0 0 0 0 0 0 0 0 0 0 0 0 0 0 0 0 0 0 0 0 0 0 0 0 0 0 0 0 0 0 0 0 0 0 0 0 0 0 0 0 0 0 0 0 0 0 0 0 0 0 0 0 0 0 0 0 0 0 0 0 0 0 0 0 0 0 0 0 0 0 0 0 0 0 0 0 0 0 0 0 0 0 0 0 0 0 0 0 0 0 0 0 0 0 0 0 0 0 0 0 0 0 0 0 0 0 0 0 0 0 0 0 0 0 0 0 0 0 0 0 0 0 0 0 0 0 0 0 0 0 0 0 0 0 0 0 0 0 0 0 0 0 0 0 0 0 0 0 0 0 0 0 0 0 0 0 0 0 0 0 0 0 0 0 0 0 0 0 0 0 0 0 0 0 0 0\n",
            "09/05/2022 17:34:06 - INFO - __main__ -   ***** Running training *****\n",
            "09/05/2022 17:34:06 - INFO - __main__ -     Num examples = 108000\n",
            "09/05/2022 17:34:06 - INFO - __main__ -     Batch size = 32\n",
            "09/05/2022 17:34:06 - INFO - __main__ -     Num steps = 10125\n",
            "09/05/2022 17:34:12 - INFO - __main__ -   Epoch 1/3.0\n",
            "Iteration:   0% 0/6750 [00:00<?, ?it/s]/usr/local/lib/python3.7/dist-packages/TorchCRF/__init__.py:173: UserWarning: where received a uint8 condition tensor. This behavior is deprecated and will be removed in a future version of PyTorch. Use a boolean condition instead. (Triggered internally at  ../aten/src/ATen/native/TensorCompare.cpp:402.)\n",
            "  score = torch.where(mask_t, score_t, score)\n",
            "Iteration:   0% 0/6750 [00:01<?, ?it/s]\n",
            "Traceback (most recent call last):\n",
            "  File \"run_train_punc.py\", line 511, in <module>\n",
            "    main()\n",
            "  File \"run_train_punc.py\", line 331, in main\n",
            "    loss.backward()\n",
            "  File \"/usr/local/lib/python3.7/dist-packages/torch/_tensor.py\", line 396, in backward\n",
            "    torch.autograd.backward(self, gradient, retain_graph, create_graph, inputs=inputs)\n",
            "  File \"/usr/local/lib/python3.7/dist-packages/torch/autograd/__init__.py\", line 166, in backward\n",
            "    grad_tensors_ = _make_grads(tensors, grad_tensors_, is_grads_batched=False)\n",
            "  File \"/usr/local/lib/python3.7/dist-packages/torch/autograd/__init__.py\", line 67, in _make_grads\n",
            "    raise RuntimeError(\"grad can be implicitly created only for scalar outputs\")\n",
            "RuntimeError: grad can be implicitly created only for scalar outputs\n"
          ]
        }
      ],
      "source": [
        "!python3 run_train_punc.py --model_name_or_path=\"bert-base-multilingual-cased\" --model_arch \"lstm_crf\" --model_type \"bert\" --data_dir=\"data/News\" --output_dir=\"outputs\" --task_name=\"punctuation_prediction\" --max_seq_length=190 --do_train --do_eval --eval_on=\"test\" --train_batch_size=32 "
      ]
    },
    {
      "cell_type": "code",
      "execution_count": null,
      "metadata": {
        "id": "7wCMtf-BpVG1"
      },
      "outputs": [],
      "source": []
    }
  ],
  "metadata": {
    "accelerator": "GPU",
    "colab": {
      "collapsed_sections": [],
      "provenance": [],
      "authorship_tag": "ABX9TyOXcjyAJQyrP+RFrS2rC8Tp",
      "include_colab_link": true
    },
    "gpuClass": "standard",
    "kernelspec": {
      "display_name": "Python 3",
      "name": "python3"
    },
    "language_info": {
      "name": "python"
    }
  },
  "nbformat": 4,
  "nbformat_minor": 0
}